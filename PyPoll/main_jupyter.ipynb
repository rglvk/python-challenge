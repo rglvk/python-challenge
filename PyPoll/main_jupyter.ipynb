{
 "cells": [
  {
   "cell_type": "code",
   "execution_count": 1,
   "id": "218c7869",
   "metadata": {},
   "outputs": [],
   "source": [
    "# hello"
   ]
  },
  {
   "cell_type": "code",
   "execution_count": 2,
   "id": "4f7dc0da",
   "metadata": {},
   "outputs": [],
   "source": [
    "import pandas as pd\n",
    "df = pd.read_csv('/Users/j/Desktop/Bootcamp/Module_3_Challenge/PyPoll/Resources/election_data.csv')"
   ]
  },
  {
   "cell_type": "code",
   "execution_count": 3,
   "id": "f0eeea02",
   "metadata": {},
   "outputs": [
    {
     "data": {
      "text/html": [
       "<div>\n",
       "<style scoped>\n",
       "    .dataframe tbody tr th:only-of-type {\n",
       "        vertical-align: middle;\n",
       "    }\n",
       "\n",
       "    .dataframe tbody tr th {\n",
       "        vertical-align: top;\n",
       "    }\n",
       "\n",
       "    .dataframe thead th {\n",
       "        text-align: right;\n",
       "    }\n",
       "</style>\n",
       "<table border=\"1\" class=\"dataframe\">\n",
       "  <thead>\n",
       "    <tr style=\"text-align: right;\">\n",
       "      <th></th>\n",
       "      <th>Ballot ID</th>\n",
       "      <th>County</th>\n",
       "      <th>Candidate</th>\n",
       "    </tr>\n",
       "  </thead>\n",
       "  <tbody>\n",
       "    <tr>\n",
       "      <th>0</th>\n",
       "      <td>1323913</td>\n",
       "      <td>Jefferson</td>\n",
       "      <td>Charles Casper Stockham</td>\n",
       "    </tr>\n",
       "    <tr>\n",
       "      <th>1</th>\n",
       "      <td>1005842</td>\n",
       "      <td>Jefferson</td>\n",
       "      <td>Charles Casper Stockham</td>\n",
       "    </tr>\n",
       "    <tr>\n",
       "      <th>2</th>\n",
       "      <td>1880345</td>\n",
       "      <td>Jefferson</td>\n",
       "      <td>Charles Casper Stockham</td>\n",
       "    </tr>\n",
       "    <tr>\n",
       "      <th>3</th>\n",
       "      <td>1600337</td>\n",
       "      <td>Jefferson</td>\n",
       "      <td>Charles Casper Stockham</td>\n",
       "    </tr>\n",
       "    <tr>\n",
       "      <th>4</th>\n",
       "      <td>1835994</td>\n",
       "      <td>Jefferson</td>\n",
       "      <td>Charles Casper Stockham</td>\n",
       "    </tr>\n",
       "  </tbody>\n",
       "</table>\n",
       "</div>"
      ],
      "text/plain": [
       "   Ballot ID     County                Candidate\n",
       "0    1323913  Jefferson  Charles Casper Stockham\n",
       "1    1005842  Jefferson  Charles Casper Stockham\n",
       "2    1880345  Jefferson  Charles Casper Stockham\n",
       "3    1600337  Jefferson  Charles Casper Stockham\n",
       "4    1835994  Jefferson  Charles Casper Stockham"
      ]
     },
     "execution_count": 3,
     "metadata": {},
     "output_type": "execute_result"
    }
   ],
   "source": [
    "df.head()"
   ]
  },
  {
   "cell_type": "code",
   "execution_count": 4,
   "id": "918bc554",
   "metadata": {},
   "outputs": [
    {
     "data": {
      "text/plain": [
       "(369711, 3)"
      ]
     },
     "execution_count": 4,
     "metadata": {},
     "output_type": "execute_result"
    }
   ],
   "source": [
    "df.shape"
   ]
  },
  {
   "cell_type": "code",
   "execution_count": 5,
   "id": "659ecd8b",
   "metadata": {},
   "outputs": [],
   "source": [
    "# The total number of votes cast"
   ]
  },
  {
   "cell_type": "code",
   "execution_count": 6,
   "id": "0d328ff3",
   "metadata": {},
   "outputs": [
    {
     "data": {
      "text/plain": [
       "369711"
      ]
     },
     "execution_count": 6,
     "metadata": {},
     "output_type": "execute_result"
    }
   ],
   "source": [
    "len(df['Ballot ID'].unique())"
   ]
  },
  {
   "cell_type": "code",
   "execution_count": 7,
   "id": "3c26368e",
   "metadata": {},
   "outputs": [],
   "source": [
    "# A complete list of candidates who received votes"
   ]
  },
  {
   "cell_type": "code",
   "execution_count": 8,
   "id": "403ae9bc",
   "metadata": {},
   "outputs": [],
   "source": [
    "candidates = df['Candidate'].unique()"
   ]
  },
  {
   "cell_type": "code",
   "execution_count": 9,
   "id": "d96c802e",
   "metadata": {},
   "outputs": [
    {
     "name": "stdout",
     "output_type": "stream",
     "text": [
      "['Charles Casper Stockham' 'Diana DeGette' 'Raymon Anthony Doane']\n"
     ]
    }
   ],
   "source": [
    "print(candidates)"
   ]
  },
  {
   "cell_type": "code",
   "execution_count": 10,
   "id": "89f8d415",
   "metadata": {},
   "outputs": [],
   "source": [
    "# The percentage of votes each candidate won"
   ]
  },
  {
   "cell_type": "code",
   "execution_count": 11,
   "id": "079096f1",
   "metadata": {},
   "outputs": [
    {
     "name": "stdout",
     "output_type": "stream",
     "text": [
      "85213 272892 11606\n"
     ]
    }
   ],
   "source": [
    "# Stockham\n",
    "a = df.loc[df['Candidate'] == 'Charles Casper Stockham']\n",
    "b = df.loc[df['Candidate'] == 'Diana DeGette']\n",
    "c = df.loc[df['Candidate'] == 'Raymon Anthony Doane']\n",
    "print(len(a), len(b), len(c))"
   ]
  },
  {
   "cell_type": "code",
   "execution_count": null,
   "id": "151af219",
   "metadata": {},
   "outputs": [],
   "source": []
  },
  {
   "cell_type": "code",
   "execution_count": 12,
   "id": "dd589d88",
   "metadata": {},
   "outputs": [],
   "source": [
    "a_pc = len(a) / 369711\n",
    "b_pc = len(b) / 369711\n",
    "c_pc = len(c) / 369711"
   ]
  },
  {
   "cell_type": "code",
   "execution_count": 13,
   "id": "9c30cc0f",
   "metadata": {},
   "outputs": [
    {
     "name": "stdout",
     "output_type": "stream",
     "text": [
      "0.2304854332167558\n"
     ]
    }
   ],
   "source": [
    "print(a_pc)"
   ]
  },
  {
   "cell_type": "code",
   "execution_count": 14,
   "id": "d66476bd",
   "metadata": {},
   "outputs": [
    {
     "name": "stdout",
     "output_type": "stream",
     "text": [
      "0.7381224794501652\n"
     ]
    }
   ],
   "source": [
    "print(b_pc)"
   ]
  },
  {
   "cell_type": "code",
   "execution_count": 15,
   "id": "125c46e0",
   "metadata": {},
   "outputs": [
    {
     "name": "stdout",
     "output_type": "stream",
     "text": [
      "0.03139208733307908\n"
     ]
    }
   ],
   "source": [
    "print(c_pc)"
   ]
  },
  {
   "cell_type": "code",
   "execution_count": 16,
   "id": "077a4c93",
   "metadata": {},
   "outputs": [],
   "source": [
    "# The total number of votes each candidate won"
   ]
  },
  {
   "cell_type": "code",
   "execution_count": 17,
   "id": "1ff079d2",
   "metadata": {},
   "outputs": [],
   "source": [
    "# 85213 272892 11606"
   ]
  },
  {
   "cell_type": "code",
   "execution_count": 18,
   "id": "ee082b5d",
   "metadata": {},
   "outputs": [],
   "source": [
    "# Winner: Diana DeGette"
   ]
  },
  {
   "cell_type": "code",
   "execution_count": null,
   "id": "574141b7",
   "metadata": {},
   "outputs": [],
   "source": []
  },
  {
   "cell_type": "code",
   "execution_count": 41,
   "id": "abbba8d2",
   "metadata": {},
   "outputs": [],
   "source": [
    "multiline_text = \"\"\"\n",
    " \n",
    "PyPoll: \n",
    "\n",
    "Total Votes: 369711 \n",
    "\n",
    "Each candidate’s total votes and percent of votes: \n",
    "Charles Casper Stockham: 85213, 23% \n",
    "Diana DeGette: 272892, 74% \n",
    "Raymon Anthony Doane: 11606, 3.1% \n",
    "  \n",
    "Winner: \n",
    "Diana DeGette\n",
    "\n",
    "\n",
    "\n",
    "\"\"\"\n",
    "\n",
    "print(multiline_text)"
   ]
  },
  {
   "cell_type": "code",
   "execution_count": 31,
   "id": "713d0125",
   "metadata": {},
   "outputs": [],
   "source": [
    "cell_content = \"\"\"\n",
    "PyPoll:\n",
    "\n",
    "Total Votes: 369711\n",
    "\n",
    "Each candidate’s total votes and percent of votes:\n",
    "Charles Casper Stockham: 85213, 23%\n",
    "Diana DeGette: 272892, 74%\n",
    "Raymon Anthony Doane: 11606, 3.1%\n",
    " \n",
    "Winner:\n",
    "Diana DeGette\n",
    "\"\"\"\n",
    "\n",
    "# Specify the file path where you want to save the content\n",
    "file_path = \"/Users/j/Desktop/Bootcamp/Module_3_Challenge/PyPoll/output.txt\"\n",
    "\n",
    "# Open the file in write mode and write the cell content to it\n",
    "with open(file_path, \"w\") as file:\n",
    "    file.write(cell_content)\n",
    "\n",
    "print(f\"Content saved to {file_path}\")\n",
    "\n",
    "\n",
    "\n"
   ]
  },
  {
   "cell_type": "code",
   "execution_count": null,
   "id": "e82c2b52",
   "metadata": {},
   "outputs": [],
   "source": []
  }
 ],
 "metadata": {
  "kernelspec": {
   "display_name": "Python 3 (ipykernel)",
   "language": "python",
   "name": "python3"
  },
  "language_info": {
   "codemirror_mode": {
    "name": "ipython",
    "version": 3
   },
   "file_extension": ".py",
   "mimetype": "text/x-python",
   "name": "python",
   "nbconvert_exporter": "python",
   "pygments_lexer": "ipython3",
   "version": "3.9.7"
  }
 },
 "nbformat": 4,
 "nbformat_minor": 5
}
