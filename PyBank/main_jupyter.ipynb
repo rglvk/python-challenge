{
 "cells": [
  {
   "cell_type": "code",
   "execution_count": 1,
   "id": "e1393aa3",
   "metadata": {},
   "outputs": [],
   "source": [
    "# hello"
   ]
  },
  {
   "cell_type": "code",
   "execution_count": 4,
   "id": "49448bbb",
   "metadata": {},
   "outputs": [],
   "source": [
    "import pandas as pd\n",
    "df = pd.read_csv('/Users/j/Desktop/Bootcamp/Module_3_Challenge/PyBank/Resources/budget_data.csv')"
   ]
  },
  {
   "cell_type": "code",
   "execution_count": 5,
   "id": "c2032ada",
   "metadata": {},
   "outputs": [
    {
     "data": {
      "text/html": [
       "<div>\n",
       "<style scoped>\n",
       "    .dataframe tbody tr th:only-of-type {\n",
       "        vertical-align: middle;\n",
       "    }\n",
       "\n",
       "    .dataframe tbody tr th {\n",
       "        vertical-align: top;\n",
       "    }\n",
       "\n",
       "    .dataframe thead th {\n",
       "        text-align: right;\n",
       "    }\n",
       "</style>\n",
       "<table border=\"1\" class=\"dataframe\">\n",
       "  <thead>\n",
       "    <tr style=\"text-align: right;\">\n",
       "      <th></th>\n",
       "      <th>Date</th>\n",
       "      <th>Profit/Losses</th>\n",
       "    </tr>\n",
       "  </thead>\n",
       "  <tbody>\n",
       "    <tr>\n",
       "      <th>0</th>\n",
       "      <td>Jan-10</td>\n",
       "      <td>1088983</td>\n",
       "    </tr>\n",
       "    <tr>\n",
       "      <th>1</th>\n",
       "      <td>Feb-10</td>\n",
       "      <td>-354534</td>\n",
       "    </tr>\n",
       "    <tr>\n",
       "      <th>2</th>\n",
       "      <td>Mar-10</td>\n",
       "      <td>276622</td>\n",
       "    </tr>\n",
       "    <tr>\n",
       "      <th>3</th>\n",
       "      <td>Apr-10</td>\n",
       "      <td>-728133</td>\n",
       "    </tr>\n",
       "    <tr>\n",
       "      <th>4</th>\n",
       "      <td>May-10</td>\n",
       "      <td>852993</td>\n",
       "    </tr>\n",
       "  </tbody>\n",
       "</table>\n",
       "</div>"
      ],
      "text/plain": [
       "     Date  Profit/Losses\n",
       "0  Jan-10        1088983\n",
       "1  Feb-10        -354534\n",
       "2  Mar-10         276622\n",
       "3  Apr-10        -728133\n",
       "4  May-10         852993"
      ]
     },
     "execution_count": 5,
     "metadata": {},
     "output_type": "execute_result"
    }
   ],
   "source": [
    "df.head()"
   ]
  },
  {
   "cell_type": "code",
   "execution_count": 6,
   "id": "9b373fa5",
   "metadata": {},
   "outputs": [
    {
     "data": {
      "text/plain": [
       "(86, 2)"
      ]
     },
     "execution_count": 6,
     "metadata": {},
     "output_type": "execute_result"
    }
   ],
   "source": [
    "df.shape"
   ]
  },
  {
   "cell_type": "code",
   "execution_count": 7,
   "id": "abd23ad2",
   "metadata": {},
   "outputs": [],
   "source": [
    "# The total number of months included in the dataset"
   ]
  },
  {
   "cell_type": "code",
   "execution_count": 8,
   "id": "400767af",
   "metadata": {},
   "outputs": [
    {
     "data": {
      "text/plain": [
       "86"
      ]
     },
     "execution_count": 8,
     "metadata": {},
     "output_type": "execute_result"
    }
   ],
   "source": [
    "len(df['Date'].unique())"
   ]
  },
  {
   "cell_type": "code",
   "execution_count": 9,
   "id": "a873088b",
   "metadata": {},
   "outputs": [
    {
     "data": {
      "text/html": [
       "<div>\n",
       "<style scoped>\n",
       "    .dataframe tbody tr th:only-of-type {\n",
       "        vertical-align: middle;\n",
       "    }\n",
       "\n",
       "    .dataframe tbody tr th {\n",
       "        vertical-align: top;\n",
       "    }\n",
       "\n",
       "    .dataframe thead th {\n",
       "        text-align: right;\n",
       "    }\n",
       "</style>\n",
       "<table border=\"1\" class=\"dataframe\">\n",
       "  <thead>\n",
       "    <tr style=\"text-align: right;\">\n",
       "      <th></th>\n",
       "      <th>Date</th>\n",
       "      <th>Profit/Losses</th>\n",
       "    </tr>\n",
       "  </thead>\n",
       "  <tbody>\n",
       "    <tr>\n",
       "      <th>0</th>\n",
       "      <td>Jan-10</td>\n",
       "      <td>1088983</td>\n",
       "    </tr>\n",
       "    <tr>\n",
       "      <th>1</th>\n",
       "      <td>Feb-10</td>\n",
       "      <td>-354534</td>\n",
       "    </tr>\n",
       "    <tr>\n",
       "      <th>2</th>\n",
       "      <td>Mar-10</td>\n",
       "      <td>276622</td>\n",
       "    </tr>\n",
       "    <tr>\n",
       "      <th>3</th>\n",
       "      <td>Apr-10</td>\n",
       "      <td>-728133</td>\n",
       "    </tr>\n",
       "    <tr>\n",
       "      <th>4</th>\n",
       "      <td>May-10</td>\n",
       "      <td>852993</td>\n",
       "    </tr>\n",
       "    <tr>\n",
       "      <th>5</th>\n",
       "      <td>Jun-10</td>\n",
       "      <td>563721</td>\n",
       "    </tr>\n",
       "    <tr>\n",
       "      <th>6</th>\n",
       "      <td>Jul-10</td>\n",
       "      <td>-535208</td>\n",
       "    </tr>\n",
       "    <tr>\n",
       "      <th>7</th>\n",
       "      <td>Aug-10</td>\n",
       "      <td>632349</td>\n",
       "    </tr>\n",
       "    <tr>\n",
       "      <th>8</th>\n",
       "      <td>Sep-10</td>\n",
       "      <td>-173744</td>\n",
       "    </tr>\n",
       "    <tr>\n",
       "      <th>9</th>\n",
       "      <td>Oct-10</td>\n",
       "      <td>950741</td>\n",
       "    </tr>\n",
       "    <tr>\n",
       "      <th>10</th>\n",
       "      <td>Nov-10</td>\n",
       "      <td>-785750</td>\n",
       "    </tr>\n",
       "    <tr>\n",
       "      <th>11</th>\n",
       "      <td>Dec-10</td>\n",
       "      <td>-1194133</td>\n",
       "    </tr>\n",
       "    <tr>\n",
       "      <th>12</th>\n",
       "      <td>Jan-11</td>\n",
       "      <td>-589576</td>\n",
       "    </tr>\n",
       "    <tr>\n",
       "      <th>13</th>\n",
       "      <td>Feb-11</td>\n",
       "      <td>-883921</td>\n",
       "    </tr>\n",
       "    <tr>\n",
       "      <th>14</th>\n",
       "      <td>Mar-11</td>\n",
       "      <td>443564</td>\n",
       "    </tr>\n",
       "    <tr>\n",
       "      <th>15</th>\n",
       "      <td>Apr-11</td>\n",
       "      <td>837887</td>\n",
       "    </tr>\n",
       "    <tr>\n",
       "      <th>16</th>\n",
       "      <td>May-11</td>\n",
       "      <td>1081472</td>\n",
       "    </tr>\n",
       "    <tr>\n",
       "      <th>17</th>\n",
       "      <td>Jun-11</td>\n",
       "      <td>464033</td>\n",
       "    </tr>\n",
       "    <tr>\n",
       "      <th>18</th>\n",
       "      <td>Jul-11</td>\n",
       "      <td>-1066544</td>\n",
       "    </tr>\n",
       "    <tr>\n",
       "      <th>19</th>\n",
       "      <td>Aug-11</td>\n",
       "      <td>323846</td>\n",
       "    </tr>\n",
       "    <tr>\n",
       "      <th>20</th>\n",
       "      <td>Sep-11</td>\n",
       "      <td>-806551</td>\n",
       "    </tr>\n",
       "    <tr>\n",
       "      <th>21</th>\n",
       "      <td>Oct-11</td>\n",
       "      <td>487053</td>\n",
       "    </tr>\n",
       "    <tr>\n",
       "      <th>22</th>\n",
       "      <td>Nov-11</td>\n",
       "      <td>1128811</td>\n",
       "    </tr>\n",
       "    <tr>\n",
       "      <th>23</th>\n",
       "      <td>Dec-11</td>\n",
       "      <td>791398</td>\n",
       "    </tr>\n",
       "    <tr>\n",
       "      <th>24</th>\n",
       "      <td>Jan-12</td>\n",
       "      <td>739367</td>\n",
       "    </tr>\n",
       "    <tr>\n",
       "      <th>25</th>\n",
       "      <td>Feb-12</td>\n",
       "      <td>-197825</td>\n",
       "    </tr>\n",
       "    <tr>\n",
       "      <th>26</th>\n",
       "      <td>Mar-12</td>\n",
       "      <td>666016</td>\n",
       "    </tr>\n",
       "    <tr>\n",
       "      <th>27</th>\n",
       "      <td>Apr-12</td>\n",
       "      <td>589771</td>\n",
       "    </tr>\n",
       "    <tr>\n",
       "      <th>28</th>\n",
       "      <td>May-12</td>\n",
       "      <td>489290</td>\n",
       "    </tr>\n",
       "    <tr>\n",
       "      <th>29</th>\n",
       "      <td>Jun-12</td>\n",
       "      <td>-471439</td>\n",
       "    </tr>\n",
       "  </tbody>\n",
       "</table>\n",
       "</div>"
      ],
      "text/plain": [
       "      Date  Profit/Losses\n",
       "0   Jan-10        1088983\n",
       "1   Feb-10        -354534\n",
       "2   Mar-10         276622\n",
       "3   Apr-10        -728133\n",
       "4   May-10         852993\n",
       "5   Jun-10         563721\n",
       "6   Jul-10        -535208\n",
       "7   Aug-10         632349\n",
       "8   Sep-10        -173744\n",
       "9   Oct-10         950741\n",
       "10  Nov-10        -785750\n",
       "11  Dec-10       -1194133\n",
       "12  Jan-11        -589576\n",
       "13  Feb-11        -883921\n",
       "14  Mar-11         443564\n",
       "15  Apr-11         837887\n",
       "16  May-11        1081472\n",
       "17  Jun-11         464033\n",
       "18  Jul-11       -1066544\n",
       "19  Aug-11         323846\n",
       "20  Sep-11        -806551\n",
       "21  Oct-11         487053\n",
       "22  Nov-11        1128811\n",
       "23  Dec-11         791398\n",
       "24  Jan-12         739367\n",
       "25  Feb-12        -197825\n",
       "26  Mar-12         666016\n",
       "27  Apr-12         589771\n",
       "28  May-12         489290\n",
       "29  Jun-12        -471439"
      ]
     },
     "execution_count": 9,
     "metadata": {},
     "output_type": "execute_result"
    }
   ],
   "source": [
    "df.head(30)"
   ]
  },
  {
   "cell_type": "code",
   "execution_count": 10,
   "id": "878cb728",
   "metadata": {},
   "outputs": [],
   "source": [
    "# The net total amount of \"Profit/Losses\" over the entire period"
   ]
  },
  {
   "cell_type": "code",
   "execution_count": 11,
   "id": "e7db2cb2",
   "metadata": {},
   "outputs": [],
   "source": [
    "a = df['Profit/Losses'].sum()"
   ]
  },
  {
   "cell_type": "code",
   "execution_count": 12,
   "id": "d9b215f2",
   "metadata": {},
   "outputs": [
    {
     "name": "stdout",
     "output_type": "stream",
     "text": [
      "22564198\n"
     ]
    }
   ],
   "source": [
    "print(a)"
   ]
  },
  {
   "cell_type": "code",
   "execution_count": 13,
   "id": "fdbe8bae",
   "metadata": {},
   "outputs": [],
   "source": [
    "# The changes in \"Profit/Losses\" over the entire period, and then the average of those changes"
   ]
  },
  {
   "cell_type": "code",
   "execution_count": 16,
   "id": "7312be7e",
   "metadata": {},
   "outputs": [],
   "source": [
    "df_changes = df.copy()\n",
    "for i in range(1, len(df)):\n",
    "    df_changes.iloc[i,1] = df.iloc[i,1] - df.iloc[i-1, 1]"
   ]
  },
  {
   "cell_type": "code",
   "execution_count": 17,
   "id": "cb4747b6",
   "metadata": {},
   "outputs": [
    {
     "data": {
      "text/html": [
       "<div>\n",
       "<style scoped>\n",
       "    .dataframe tbody tr th:only-of-type {\n",
       "        vertical-align: middle;\n",
       "    }\n",
       "\n",
       "    .dataframe tbody tr th {\n",
       "        vertical-align: top;\n",
       "    }\n",
       "\n",
       "    .dataframe thead th {\n",
       "        text-align: right;\n",
       "    }\n",
       "</style>\n",
       "<table border=\"1\" class=\"dataframe\">\n",
       "  <thead>\n",
       "    <tr style=\"text-align: right;\">\n",
       "      <th></th>\n",
       "      <th>Date</th>\n",
       "      <th>Profit/Losses</th>\n",
       "    </tr>\n",
       "  </thead>\n",
       "  <tbody>\n",
       "    <tr>\n",
       "      <th>0</th>\n",
       "      <td>Jan-10</td>\n",
       "      <td>1088983</td>\n",
       "    </tr>\n",
       "    <tr>\n",
       "      <th>1</th>\n",
       "      <td>Feb-10</td>\n",
       "      <td>-1443517</td>\n",
       "    </tr>\n",
       "    <tr>\n",
       "      <th>2</th>\n",
       "      <td>Mar-10</td>\n",
       "      <td>631156</td>\n",
       "    </tr>\n",
       "    <tr>\n",
       "      <th>3</th>\n",
       "      <td>Apr-10</td>\n",
       "      <td>-1004755</td>\n",
       "    </tr>\n",
       "    <tr>\n",
       "      <th>4</th>\n",
       "      <td>May-10</td>\n",
       "      <td>1581126</td>\n",
       "    </tr>\n",
       "  </tbody>\n",
       "</table>\n",
       "</div>"
      ],
      "text/plain": [
       "     Date  Profit/Losses\n",
       "0  Jan-10        1088983\n",
       "1  Feb-10       -1443517\n",
       "2  Mar-10         631156\n",
       "3  Apr-10       -1004755\n",
       "4  May-10        1581126"
      ]
     },
     "execution_count": 17,
     "metadata": {},
     "output_type": "execute_result"
    }
   ],
   "source": [
    "df_changes.head()"
   ]
  },
  {
   "cell_type": "code",
   "execution_count": 18,
   "id": "04011900",
   "metadata": {},
   "outputs": [
    {
     "name": "stdout",
     "output_type": "stream",
     "text": [
      "4448.127906976744\n"
     ]
    }
   ],
   "source": [
    "b = df_changes['Profit/Losses'].mean()\n",
    "print(b)"
   ]
  },
  {
   "cell_type": "code",
   "execution_count": 19,
   "id": "fbfa04f5",
   "metadata": {},
   "outputs": [],
   "source": [
    "# The greatest increase in profits (date and amount) over the entire period"
   ]
  },
  {
   "cell_type": "code",
   "execution_count": 20,
   "id": "0c874c32",
   "metadata": {},
   "outputs": [
    {
     "name": "stdout",
     "output_type": "stream",
     "text": [
      "1862002\n"
     ]
    }
   ],
   "source": [
    "c = df_changes['Profit/Losses'].max()\n",
    "print(c)"
   ]
  },
  {
   "cell_type": "code",
   "execution_count": 21,
   "id": "b8c6817e",
   "metadata": {},
   "outputs": [],
   "source": [
    "# The greatest decrease in profits (date and amount) over the entire period"
   ]
  },
  {
   "cell_type": "code",
   "execution_count": 22,
   "id": "b3872d99",
   "metadata": {},
   "outputs": [
    {
     "name": "stdout",
     "output_type": "stream",
     "text": [
      "-1825558\n"
     ]
    }
   ],
   "source": [
    "d = df_changes['Profit/Losses'].min()\n",
    "print(d)"
   ]
  },
  {
   "cell_type": "code",
   "execution_count": 23,
   "id": "189c0213",
   "metadata": {},
   "outputs": [],
   "source": [
    "indices1 = df_changes.loc[df_changes['Profit/Losses'] == c]\n",
    "indices2 = df_changes.loc[df_changes['Profit/Losses'] == d]"
   ]
  },
  {
   "cell_type": "code",
   "execution_count": 26,
   "id": "83f73ed0",
   "metadata": {},
   "outputs": [
    {
     "name": "stdout",
     "output_type": "stream",
     "text": [
      "      Date  Profit/Losses\n",
      "79  Aug-16        1862002\n"
     ]
    }
   ],
   "source": [
    "print(indices1)"
   ]
  },
  {
   "cell_type": "code",
   "execution_count": 27,
   "id": "82779f14",
   "metadata": {},
   "outputs": [
    {
     "name": "stdout",
     "output_type": "stream",
     "text": [
      "      Date  Profit/Losses\n",
      "49  Feb-14       -1825558\n"
     ]
    }
   ],
   "source": [
    "print(indices2)"
   ]
  },
  {
   "cell_type": "code",
   "execution_count": 6,
   "id": "27461805",
   "metadata": {},
   "outputs": [
    {
     "name": "stdout",
     "output_type": "stream",
     "text": [
      "\n",
      "PyBank:\n",
      "\n",
      "Total Months: 86\n",
      "\n",
      "Total: 22,564,198\n",
      "\n",
      "Average Change: 4448.13\n",
      "\n",
      "Greatest Increase: 1,862,002\n",
      "\n",
      "Greatest Decrease: -1,825,558\n",
      "\n",
      "\n",
      "\n"
     ]
    }
   ],
   "source": [
    "multiline_text1 = \"\"\"\n",
    "PyBank:\n",
    "\n",
    "Total Months: 86\n",
    "\n",
    "Total: 22,564,198\n",
    "\n",
    "Average Change: 4448.13\n",
    "\n",
    "Greatest Increase: 1,862,002\n",
    "\n",
    "Greatest Decrease: -1,825,558\n",
    "\n",
    "\n",
    "\"\"\"\n",
    "\n",
    "print(multiline_text1)"
   ]
  },
  {
   "cell_type": "code",
   "execution_count": 1,
   "id": "976082e4",
   "metadata": {},
   "outputs": [
    {
     "name": "stdout",
     "output_type": "stream",
     "text": [
      "Content saved to /Users/j/Desktop/Bootcamp/Module_3_Challenge/PyBank/output.txt\n"
     ]
    }
   ],
   "source": [
    "\n",
    "cell_content ='''\n",
    "PyBank:\n",
    "\n",
    "Total Months: 86\n",
    "\n",
    "Total: 22,564,198\n",
    "\n",
    "Average Change: 4448.13\n",
    "\n",
    "Greatest Increase: 1,862,002\n",
    "\n",
    "Greatest Decrease: -1,825,558\n",
    "'''\n",
    "# Specify the file path where you want to save the content\n",
    "file_path = \"/Users/j/Desktop/Bootcamp/Module_3_Challenge/PyBank/output.txt\"\n",
    "\n",
    "# Open the file in write mode and write the cell content to it\n",
    "with open(file_path, \"w\") as file:\n",
    "    file.write(cell_content)\n",
    "\n",
    "print(f\"Content saved to {file_path}\")"
   ]
  },
  {
   "cell_type": "code",
   "execution_count": null,
   "id": "e53b270b",
   "metadata": {},
   "outputs": [],
   "source": []
  }
 ],
 "metadata": {
  "kernelspec": {
   "display_name": "Python 3 (ipykernel)",
   "language": "python",
   "name": "python3"
  },
  "language_info": {
   "codemirror_mode": {
    "name": "ipython",
    "version": 3
   },
   "file_extension": ".py",
   "mimetype": "text/x-python",
   "name": "python",
   "nbconvert_exporter": "python",
   "pygments_lexer": "ipython3",
   "version": "3.9.7"
  }
 },
 "nbformat": 4,
 "nbformat_minor": 5
}
